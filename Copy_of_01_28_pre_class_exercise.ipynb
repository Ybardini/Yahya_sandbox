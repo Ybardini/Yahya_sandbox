{
  "nbformat": 4,
  "nbformat_minor": 0,
  "metadata": {
    "colab": {
      "name": "Copy of 01_28_pre_class_exercise.ipynb",
      "provenance": [],
      "collapsed_sections": [],
      "include_colab_link": true
    },
    "kernelspec": {
      "name": "python3",
      "display_name": "Python 3"
    },
    "language_info": {
      "name": "python"
    }
  },
  "cells": [
    {
      "cell_type": "markdown",
      "metadata": {
        "id": "view-in-github",
        "colab_type": "text"
      },
      "source": [
        "<a href=\"https://colab.research.google.com/github/Ybardini/Yahya_sandbox/blob/main/Copy_of_01_28_pre_class_exercise.ipynb\" target=\"_parent\"><img src=\"https://colab.research.google.com/assets/colab-badge.svg\" alt=\"Open In Colab\"/></a>"
      ]
    },
    {
      "cell_type": "markdown",
      "source": [
        "# Pre-class exercise for Jan 28th\n",
        "\n",
        "Below, we will get some practice with loading `.txt` files into colab.\n",
        "\n",
        "First, on your own computer, make a `test.txt` file with a **few lines of text** in it. \n",
        "\n",
        "To make this file, you may want to use the Notepad app on Windows or the TextEdit app on Mac. Note: If you are using TextEdit, it may default to a `.rtf` (rich text file) format. To get your file to save as `.txt`, make sure to select Format -> Make Plain Text in the menu bar.\n",
        "\n",
        "Once you have your `test.txt` file just the way you like it, make sure to save it somewhere you can find it!\n",
        "\n",
        "Run the code cell below to load this file into colab. Click on \"Choose Files\" and select your `test.txt` file. \n",
        "\n"
      ],
      "metadata": {
        "id": "_kSA1e2BZmlN"
      }
    },
    {
      "cell_type": "code",
      "source": [
        "from google.colab import files\n",
        "uploaded = files.upload()"
      ],
      "metadata": {
        "id": "cnQdtfIk3HwQ",
        "colab": {
          "resources": {
            "http://localhost:8080/nbextensions/google.colab/files.js": {
              "data": "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",
              "ok": true,
              "headers": [
                [
                  "content-type",
                  "application/javascript"
                ]
              ],
              "status": 200,
              "status_text": ""
            }
          },
          "base_uri": "https://localhost:8080/",
          "height": 74
        },
        "outputId": "a82d1c1c-9616-4f2e-aa8d-71c38600df9b"
      },
      "execution_count": 1,
      "outputs": [
        {
          "output_type": "display_data",
          "data": {
            "text/html": [
              "\n",
              "     <input type=\"file\" id=\"files-5d59b0e5-2821-4535-be8b-7bc11b5178dd\" name=\"files[]\" multiple disabled\n",
              "        style=\"border:none\" />\n",
              "     <output id=\"result-5d59b0e5-2821-4535-be8b-7bc11b5178dd\">\n",
              "      Upload widget is only available when the cell has been executed in the\n",
              "      current browser session. Please rerun this cell to enable.\n",
              "      </output>\n",
              "      <script src=\"/nbextensions/google.colab/files.js\"></script> "
            ],
            "text/plain": [
              "<IPython.core.display.HTML object>"
            ]
          },
          "metadata": {}
        },
        {
          "output_type": "stream",
          "name": "stdout",
          "text": [
            "Saving test.txt to test.txt\n"
          ]
        }
      ]
    },
    {
      "cell_type": "markdown",
      "source": [
        "Now that you've loaded your file into colab, let's take a look at it by running the cell below. The `uploaded['test.txt']` is specifying of all the files we uploaded before, we would like to look at the one named `test.txt`. The `.decode(\"utf-8\")` specifies how the computer should read in the text.\n"
      ],
      "metadata": {
        "id": "T604PWSFbVB-"
      }
    },
    {
      "cell_type": "code",
      "source": [
        "uploaded['test.txt'].decode(\"utf-8\")"
      ],
      "metadata": {
        "id": "FZVloqERbkmD",
        "colab": {
          "base_uri": "https://localhost:8080/",
          "height": 122
        },
        "outputId": "b471b879-aaea-45d4-916f-66e2c184b7b1"
      },
      "execution_count": 2,
      "outputs": [
        {
          "output_type": "execute_result",
          "data": {
            "application/vnd.google.colaboratory.intrinsic+json": {
              "type": "string"
            },
            "text/plain": [
              "\"Beta maria, you know I am a righteous man. Of my vitures I am justly proud. So tell me, Maria, why I see her dancing there. Why her smoldering eyes still scorch my soul.\\r\\n\\r\\nA ruddy drop of manly blood\\r\\nThe surging sea outweighs\\r\\nThe world uncertain comes and goes\\r\\nThe lover rooted stays\\r\\nI fancied he was fled\\r\\nAnd after many a years\\r\\nGlowed unexhausted kindliness\\r\\nLike daily sunrise there\\r\\nMy careful heart was free at last\\r\\n'Oh friend!' my bosom cried\\r\\nThrough thee alone the sky is arched\\r\\nThrough thee the rose is red\\r\\nAll things through thee take nobler form\\r\\nAnd look beyond the earth.\\r\\nIs the mill-round of our fate\\r\\nA sun-path in thy worth?\\r\\nMy too thy nobleness has taught\\r\\nTo master my despair\\r\\nThe fountains of my hidden life\\r\\nAre through thy friendship fair.\\r\\n\\r\\nThe outlook wasn't brilliant for the mudville nine that day.\\r\\nThe score was two to four with but an inning left to play\\r\\nSo when Coonie died and second, and Burrows did the same\\r\\nA pallor wreathed the features of the patrons of the game.\\r\\n\\r\\nA straggling few got up to go leaving there the rest\\r\\nthat hope which spring eternal withing the human breast\\r\\nFor they thought 'if only Casey could get a wack at that.'\\r\\nThey'd put even money now with Casey at the bat.\\r\\n\\r\\nBut Flynn preceeded Casey and likewise so did Blake\\r\\nAnd the former was a Pudd'n and the latter was a fake\\r\\nAnd so on that striken multidue a deathlike silence sat\\r\\nFor there seemed but little chance of Casey's gettng to the bat\\r\\n\\r\\nBut Flynn let fly a single to the wonderment of all\\r\\nAnd the much despised Blakely tore the cover off the ball\\r\\nAnd when the dust had lifted and they saw what had occurred\\r\\nThere was Blakely safe at second, and Flinn a'huggin third.\\r\\n\\r\\nFrom the gladdened multitude went up a joyous yell\\r\\nIt rumbled in the mountaintop, it rattled in the dell\\r\\nIt struck upon the hillside and rebounded on the flat\\r\\nFor Casey, mighty Casey was advancing to the bat\\r\\n\\r\\nTen thousand eyes were on him as he rubbed his hands with dirt;\\r\\nFive thousnad tongues applauded when he wiped them on his shirt;\\r\\nThen the writing pitcher ground the ball into his hip;\\r\\nDefiance glaced in Casey's eye, a sneer curled Casey's lip.\\r\\n\\r\\nAnd now the leather-covered sphere comes hurtling through the air\\r\\nBut casey stood a'watchin' it in haughty grandeur there\\r\\nCloseby the sturdy batsman the ball unheeded speed\\r\\n'That ain't my style,' said Casey. 'Strike one!' the umpire said.\\r\\n\\r\\nFrom teh benches black with people went up a muffled roar\\r\\nLike the beating of storm waves on a stern and distant shore\\r\\n'Kill him! Kill the umpire,' shouted someone on the stand;\\r\\nAnd it's likely they'd have killed him had Casey not raised his hand.\\r\\n\\r\\n With a smile of Christian charity, great Casey's visage shone\\r\\nHe stilled the rising tumult, he made the game go on\\r\\nHe signaled to the pitcher, and once more the spheroid flew;\\r\\nBut Casey still ignored it, and the umpire said 'Strike two!'\\r\\n\\r\\n'Fraud!' cried the maddened thousands, and the echo answered 'Fraud!'\\r\\nBut one scornful look from Casey and the audience was awed.\\r\\nThey saw his face grow stern and cold, they saw his muscles strain.\\r\\nThey knew that Casey would not let the ball go by again.\\r\\n\\r\\nThe sneer is gone from Casey's lip, his teeth are clenched in hate;\\r\\nHe pound with cruel vengeance his bat upon the plate.\\r\\nAnd now the pitcher holds the ball, and now he lets it go;\\r\\nAnd now the air is shattered by the force of Casey's blow!\\r\\n\\r\\nOh somewhere in this promised land the sun is shining bright;\\r\\nThe band is playing somewhere, and somewhere hearts are light;\\r\\nAnd somewhere men are laughing, and somewhere children shout;\\r\\nBut there is no joy in Mudville -- mighty Casey has struck out.\""
            ]
          },
          "metadata": {},
          "execution_count": 2
        }
      ]
    },
    {
      "cell_type": "markdown",
      "source": [
        "## Question 1: \n",
        "What do you see when you run the cell above? Does your text display? Do you notice some `\\n` characters in your text? What do you think those are?\n",
        "\n",
        "Displayed the contents of the .txt file; the \\n's are new lines."
      ],
      "metadata": {
        "id": "Jck8YdPWb-Vl"
      }
    },
    {
      "cell_type": "markdown",
      "source": [
        "To clean up the loaded text a bit, we can run the line below to remove those `\\n` characters. "
      ],
      "metadata": {
        "id": "ic9gRgHOcOJp"
      }
    },
    {
      "cell_type": "code",
      "source": [
        "my_text = uploaded['test.txt'].decode(\"utf-8\").split('\\n')\n",
        "my_text"
      ],
      "metadata": {
        "id": "Vy0KjTOFb91Q",
        "colab": {
          "base_uri": "https://localhost:8080/"
        },
        "outputId": "7e45c75c-420b-4488-8ddf-5233c73226d4"
      },
      "execution_count": 5,
      "outputs": [
        {
          "output_type": "execute_result",
          "data": {
            "text/plain": [
              "['Beta maria, you know I am a righteous man. Of my vitures I am justly proud. So tell me, Maria, why I see her dancing there. Why her smoldering eyes still scorch my soul.\\r',\n",
              " '\\r',\n",
              " 'A ruddy drop of manly blood\\r',\n",
              " 'The surging sea outweighs\\r',\n",
              " 'The world uncertain comes and goes\\r',\n",
              " 'The lover rooted stays\\r',\n",
              " 'I fancied he was fled\\r',\n",
              " 'And after many a years\\r',\n",
              " 'Glowed unexhausted kindliness\\r',\n",
              " 'Like daily sunrise there\\r',\n",
              " 'My careful heart was free at last\\r',\n",
              " \"'Oh friend!' my bosom cried\\r\",\n",
              " 'Through thee alone the sky is arched\\r',\n",
              " 'Through thee the rose is red\\r',\n",
              " 'All things through thee take nobler form\\r',\n",
              " 'And look beyond the earth.\\r',\n",
              " 'Is the mill-round of our fate\\r',\n",
              " 'A sun-path in thy worth?\\r',\n",
              " 'My too thy nobleness has taught\\r',\n",
              " 'To master my despair\\r',\n",
              " 'The fountains of my hidden life\\r',\n",
              " 'Are through thy friendship fair.\\r',\n",
              " '\\r',\n",
              " \"The outlook wasn't brilliant for the mudville nine that day.\\r\",\n",
              " 'The score was two to four with but an inning left to play\\r',\n",
              " 'So when Coonie died and second, and Burrows did the same\\r',\n",
              " 'A pallor wreathed the features of the patrons of the game.\\r',\n",
              " '\\r',\n",
              " 'A straggling few got up to go leaving there the rest\\r',\n",
              " 'that hope which spring eternal withing the human breast\\r',\n",
              " \"For they thought 'if only Casey could get a wack at that.'\\r\",\n",
              " \"They'd put even money now with Casey at the bat.\\r\",\n",
              " '\\r',\n",
              " 'But Flynn preceeded Casey and likewise so did Blake\\r',\n",
              " \"And the former was a Pudd'n and the latter was a fake\\r\",\n",
              " 'And so on that striken multidue a deathlike silence sat\\r',\n",
              " \"For there seemed but little chance of Casey's gettng to the bat\\r\",\n",
              " '\\r',\n",
              " 'But Flynn let fly a single to the wonderment of all\\r',\n",
              " 'And the much despised Blakely tore the cover off the ball\\r',\n",
              " 'And when the dust had lifted and they saw what had occurred\\r',\n",
              " \"There was Blakely safe at second, and Flinn a'huggin third.\\r\",\n",
              " '\\r',\n",
              " 'From the gladdened multitude went up a joyous yell\\r',\n",
              " 'It rumbled in the mountaintop, it rattled in the dell\\r',\n",
              " 'It struck upon the hillside and rebounded on the flat\\r',\n",
              " 'For Casey, mighty Casey was advancing to the bat\\r',\n",
              " '\\r',\n",
              " 'Ten thousand eyes were on him as he rubbed his hands with dirt;\\r',\n",
              " 'Five thousnad tongues applauded when he wiped them on his shirt;\\r',\n",
              " 'Then the writing pitcher ground the ball into his hip;\\r',\n",
              " \"Defiance glaced in Casey's eye, a sneer curled Casey's lip.\\r\",\n",
              " '\\r',\n",
              " 'And now the leather-covered sphere comes hurtling through the air\\r',\n",
              " \"But casey stood a'watchin' it in haughty grandeur there\\r\",\n",
              " 'Closeby the sturdy batsman the ball unheeded speed\\r',\n",
              " \"'That ain't my style,' said Casey. 'Strike one!' the umpire said.\\r\",\n",
              " '\\r',\n",
              " 'From teh benches black with people went up a muffled roar\\r',\n",
              " 'Like the beating of storm waves on a stern and distant shore\\r',\n",
              " \"'Kill him! Kill the umpire,' shouted someone on the stand;\\r\",\n",
              " \"And it's likely they'd have killed him had Casey not raised his hand.\\r\",\n",
              " '\\r',\n",
              " \" With a smile of Christian charity, great Casey's visage shone\\r\",\n",
              " 'He stilled the rising tumult, he made the game go on\\r',\n",
              " 'He signaled to the pitcher, and once more the spheroid flew;\\r',\n",
              " \"But Casey still ignored it, and the umpire said 'Strike two!'\\r\",\n",
              " '\\r',\n",
              " \"'Fraud!' cried the maddened thousands, and the echo answered 'Fraud!'\\r\",\n",
              " 'But one scornful look from Casey and the audience was awed.\\r',\n",
              " 'They saw his face grow stern and cold, they saw his muscles strain.\\r',\n",
              " 'They knew that Casey would not let the ball go by again.\\r',\n",
              " '\\r',\n",
              " \"The sneer is gone from Casey's lip, his teeth are clenched in hate;\\r\",\n",
              " 'He pound with cruel vengeance his bat upon the plate.\\r',\n",
              " 'And now the pitcher holds the ball, and now he lets it go;\\r',\n",
              " \"And now the air is shattered by the force of Casey's blow!\\r\",\n",
              " '\\r',\n",
              " 'Oh somewhere in this promised land the sun is shining bright;\\r',\n",
              " 'The band is playing somewhere, and somewhere hearts are light;\\r',\n",
              " 'And somewhere men are laughing, and somewhere children shout;\\r',\n",
              " 'But there is no joy in Mudville -- mighty Casey has struck out.']"
            ]
          },
          "metadata": {},
          "execution_count": 5
        }
      ]
    },
    {
      "cell_type": "markdown",
      "source": [
        "## Question 2:\n",
        "\n",
        "What data type is the `my_text` variable? How would you describe it's structure?\n",
        "\n",
        "It's a list. It appears about the same as it was in the .txt file\n"
      ],
      "metadata": {
        "id": "wWCY1M8ockSR"
      }
    },
    {
      "cell_type": "markdown",
      "source": [
        "## Submission:\n",
        "\n",
        "Upload this completed file, including your answers to the questions, to your sandbox folder on GitHub. When you save a copy to GitHub, make sure to specify the path to your sandbox! As an example, I would save this as `beeler_sandbox/01_28_pre_class_exericse.ipynb`."
      ],
      "metadata": {
        "id": "Xqh37aFedfA0"
      }
    }
  ]
}